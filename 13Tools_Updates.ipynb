{
 "cells": [
  {
   "cell_type": "markdown",
   "id": "5302c7d8-6c95-4da6-b9a5-ad40f1012784",
   "metadata": {},
   "source": [
    "# Made the tool into 2 files: 1 Bash file and 1 Python file"
   ]
  },
  {
   "cell_type": "markdown",
   "id": "ad03a111-1ab3-4cdd-a95f-987cd8fbe116",
   "metadata": {},
   "source": [
    "The user just needs to put the path to their virus reference and the accession list of their fastq files and then it seamlessly calls the python file and everything is done and it creates a folder of the virus_name_final_plots with the final plots"
   ]
  },
  {
   "cell_type": "markdown",
   "id": "cb5ba41a-271a-41df-8690-a72d7978c397",
   "metadata": {},
   "source": [
    "But i need to update the tool as we are changing the genome coverage calculation and how we generate the 5' peak plot for the positive sense reads. "
   ]
  },
  {
   "cell_type": "markdown",
   "id": "3c7f4bba-35d6-4c40-8dcb-3e354f824d99",
   "metadata": {},
   "source": [
    "This tool is currenlty in this form only good for positive sense viruses. It does not work on dsRNA or anything else, especially negative sense viruses. That would take more adjustments and changes to the tool which someone else can do later lol."
   ]
  },
  {
   "cell_type": "markdown",
   "id": "12485472-604c-489e-b4d8-c7d64d19fac9",
   "metadata": {},
   "source": [
    "____"
   ]
  },
  {
   "cell_type": "markdown",
   "id": "8eedb517-d3cb-48bd-b092-0834850bf2bf",
   "metadata": {},
   "source": [
    "Made a bunch of changes. I need to test it on my Zika_total dataset now and see how it performs on that. Then I can start finding datasets from virus families and then run this tool on that to see how it is."
   ]
  },
  {
   "cell_type": "code",
   "execution_count": null,
   "id": "ea4e57a8-50e7-4216-83e4-a44e4beede35",
   "metadata": {},
   "outputs": [],
   "source": []
  }
 ],
 "metadata": {
  "kernelspec": {
   "display_name": "Bash",
   "language": "bash",
   "name": "bash"
  },
  "language_info": {
   "codemirror_mode": "shell",
   "file_extension": ".sh",
   "mimetype": "text/x-sh",
   "name": "bash"
  }
 },
 "nbformat": 4,
 "nbformat_minor": 5
}
