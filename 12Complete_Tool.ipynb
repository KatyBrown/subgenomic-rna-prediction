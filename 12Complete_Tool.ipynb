{
 "cells": [
  {
   "cell_type": "markdown",
   "id": "60f41eb8-ccab-43d8-9197-f1e2b0fad644",
   "metadata": {},
   "source": [
    "# Creating the Complete Tool from Downloading the Dataset to the Final Prediction with Graphs"
   ]
  },
  {
   "cell_type": "markdown",
   "id": "f09a0171-a5c5-495d-8652-ebd85fddf994",
   "metadata": {},
   "source": [
    "### Prereqs for the Tool to run"
   ]
  },
  {
   "cell_type": "code",
   "execution_count": null,
   "id": "e70ee058-efb2-48e6-b6f1-f244275d609e",
   "metadata": {},
   "outputs": [],
   "source": [
    "# path to reference virus\n",
    "zika_virus='/mnt/metagenome/Zika_brazil.fasta'\n",
    "\n",
    "# path to a file with a list of accessions, one accession per line\n",
    "acc_list='/mnt/metagenome/acc.txt'"
   ]
  },
  {
   "cell_type": "code",
   "execution_count": null,
   "id": "446804f9-568e-4e39-ae22-4b39e80f38b4",
   "metadata": {},
   "outputs": [],
   "source": [
    "mkdir fastq\n",
    "\n",
    "while read p; do\n",
    "echo \"$p\" \n",
    "\n",
    "prefetch $p --max-size u -O /mnt/metagenome\n",
    "fasterq-dump -p /mnt/metagenome/$p -e 4 -O /mnt/metagenome/fastq\n",
    "# pigz -0 -p4 $p*\n",
    "\n",
    "rm -r \"$p\"\n",
    "\n",
    "done < $acc_list"
   ]
  },
  {
   "cell_type": "markdown",
   "id": "9d075124-1ff2-4fda-b7e1-cd1b485dd90e",
   "metadata": {},
   "source": [
    "# Trimming"
   ]
  },
  {
   "cell_type": "code",
   "execution_count": null,
   "id": "8943ea79-e39d-4f64-af6b-566d7489807c",
   "metadata": {},
   "outputs": [],
   "source": [
    "mkdir trimmed\n",
    "while read p; do\n",
    "echo \"$p\" \n",
    "\n",
    "if [ -f fastq/$p\"_1.fastq\" ] && [ -f fastq/$p\"_2.fastq\" ]; then\n",
    "    trim_galore --cores 8 --paired -o trimmed/ fastq/$p\"_1.fastq\" fastq/$p\"_2.fastq\"\n",
    "else\n",
    "    trim_galore --cores 8 -o trimmed/ fastq/$p\".fastq\"\n",
    "fi\n",
    "\n",
    "done < $acc_list"
   ]
  },
  {
   "cell_type": "markdown",
   "id": "10eaf2b6-adec-4493-9298-a27b99df2c92",
   "metadata": {},
   "source": [
    "# Expression"
   ]
  },
  {
   "cell_type": "code",
   "execution_count": null,
   "id": "fa15de69-9537-4a14-8e55-ac8234c12403",
   "metadata": {},
   "outputs": [],
   "source": [
    "mkdir virus_ref"
   ]
  },
  {
   "cell_type": "code",
   "execution_count": null,
   "id": "b9b086f2-43ad-48af-baba-78ac5082ef95",
   "metadata": {},
   "outputs": [],
   "source": [
    "bowtie2-build -f $zika_virus virus_ref/zika_virus"
   ]
  },
  {
   "cell_type": "code",
   "execution_count": null,
   "id": "b2e56c09-b09a-4908-b75f-7cffa81e1165",
   "metadata": {},
   "outputs": [],
   "source": [
    "Virus=zika_virus\n",
    "\n",
    "while read p; do\n",
    "echo $p\n",
    "\n",
    "if [ -f trimmed/$p\"_1_val_1.fq\" ] && [ -f trimmed/$p\"_2_val_2.fq\" ]; then\n",
    "    time bowtie2 --local --very-sensitive-local --threads 8 -k 10 -x virus_ref/$Virus -1 trimmed/$p\"_1_val_1.fq\" -2 trimmed/$p\"_2_val_2.fq\" -S  $Virus\"_\"$p\n",
    "else\n",
    "    time bowtie2 --local --very-sensitive-local --threads 8 -k 10 -x virus_ref/$Virus -U trimmed/$p\"_trimmed.fq\" -S  $Virus\"_\"$p\n",
    "fi\n",
    "\n",
    "samtools view -S -b -@ 8 -F 260 $Virus\"_\"$p > $Virus\"_\"$p\".bam\"\n",
    "\n",
    "rm $Virus\"_\"$p\n",
    "\n",
    "samtools sort -@ 8 $Virus\"_\"$p\".bam\" > $Virus\"_\"$p\"_sorted.bam\"\n",
    "\n",
    "rm $Virus\"_\"$p\".bam\"\n",
    "\n",
    "samtools index $Virus\"_\"$p\"_sorted.bam\"\n",
    "\n",
    "done < $acc_list"
   ]
  },
  {
   "cell_type": "markdown",
   "id": "e89c8823-38c7-4260-a444-f2686f98e6de",
   "metadata": {},
   "source": [
    "# Subgenomic Plotting"
   ]
  },
  {
   "cell_type": "code",
   "execution_count": 35,
   "id": "c190d9ef-cbb5-4ecb-b736-7c4d0772c447",
   "metadata": {},
   "outputs": [],
   "source": [
    "import pandas as pd\n",
    "import matplotlib\n",
    "import matplotlib.pyplot as plt\n",
    "%matplotlib inline\n",
    "import numpy as np\n",
    "import matplotlib.gridspec as gridspec"
   ]
  },
  {
   "cell_type": "code",
   "execution_count": 36,
   "id": "1eb88725-8883-4279-baf2-80bc16c7885f",
   "metadata": {},
   "outputs": [
    {
     "name": "stdout",
     "output_type": "stream",
     "text": [
      "['SRR14849118', 'SRR14849121', 'SRR14849125', 'SRR14849126', 'SRR14849130', 'SRR14849131', 'SRR14849132', 'SRR14849145', 'SRR14849149']\n"
     ]
    }
   ],
   "source": [
    "# Function to read numbers from a file and return them as a list\n",
    "def read_acc_from_file(file_path):\n",
    "    acc = []\n",
    "    with open(file_path, 'r') as file:\n",
    "        for line in file:\n",
    "            # Strip the newline character and convert the line to an integer\n",
    "            accession = str(line.strip())\n",
    "            acc.append(accession)\n",
    "    return acc\n",
    "\n",
    "# Example usage\n",
    "file_path = '/mnt/metagenome/acc.txt'  # Replace with the path to your file\n",
    "acc_list = read_acc_from_file(file_path)\n",
    "\n",
    "print(acc_list)"
   ]
  },
  {
   "cell_type": "code",
   "execution_count": 37,
   "id": "33b6b8cc-a196-4cff-9dd0-91ed7e654b29",
   "metadata": {},
   "outputs": [
    {
     "name": "stdout",
     "output_type": "stream",
     "text": [
      "/mnt/metagenome\n"
     ]
    }
   ],
   "source": [
    "%cd /mnt/metagenome"
   ]
  },
  {
   "cell_type": "code",
   "execution_count": 11,
   "id": "da78dbbd-9100-4bfb-8ab7-70602494e46b",
   "metadata": {},
   "outputs": [
    {
     "name": "stdout",
     "output_type": "stream",
     "text": [
      "mkdir: cannot create directory ‘plotting’: File exists\n",
      "mkdir: cannot create directory ‘plotting/original_depth’: File exists\n"
     ]
    }
   ],
   "source": [
    "!mkdir plotting\n",
    "!mkdir plotting/original_depth"
   ]
  },
  {
   "cell_type": "code",
   "execution_count": null,
   "id": "8f88ad65-bd20-49cb-b837-6c1aadf010cc",
   "metadata": {},
   "outputs": [],
   "source": [
    "while read p; do\n",
    "echo $p\n",
    "\n",
    "samtools depth -aa *$p\"_sorted.bam\" > plotting/original_depth/$p\".tsv\"\n",
    "\n",
    "done < acc.txt"
   ]
  },
  {
   "cell_type": "markdown",
   "id": "b2a12549-86af-4034-b24d-78c6e4bd61b9",
   "metadata": {},
   "source": [
    "## Antisense sense read seperation"
   ]
  },
  {
   "cell_type": "code",
   "execution_count": 12,
   "id": "37dac484-cc33-4a89-ad2b-a7548cf71bb8",
   "metadata": {},
   "outputs": [],
   "source": [
    "!mkdir bam_read_seperation/"
   ]
  },
  {
   "cell_type": "code",
   "execution_count": null,
   "id": "4763ef78-ca85-4046-bbf5-d8091cc6bf58",
   "metadata": {},
   "outputs": [],
   "source": [
    "single() {\n",
    "\n",
    "samtools view -@ 8 -b -F 0x10 bam_read_seperation/$p\"_filtered.bam\" > bam_read_seperation/$p\"_sense.bam\"\n",
    "samtools view -@ 8 -b -f 0x10 bam_read_seperation/$p\"_filtered.bam\" > bam_read_seperation/$p\"_antisense.bam\"\n",
    "\n",
    "samtools sort -@ 8 bam_read_seperation/$p\"_sense.bam\" > bam_read_seperation/$p\"_sense_sorted.bam\"\n",
    "samtools sort -@ 8 bam_read_seperation/$p\"_antisense.bam\" > bam_read_seperation/$p\"_antisense_sorted.bam\"\n",
    "\n",
    "rm bam_read_seperation/$p\"_filtered.bam\"\n",
    "rm bam_read_seperation/$p\"_sense.bam\"\n",
    "rm bam_read_seperation/$p\"_antisense.bam\"\n",
    "}"
   ]
  },
  {
   "cell_type": "code",
   "execution_count": null,
   "id": "f97668d5-f34b-4c1e-815f-17c4e13f8448",
   "metadata": {},
   "outputs": [],
   "source": [
    "while read p; do\n",
    "\n",
    "samtools view -@ 8 -b -q 10 *$p\"_sorted.bam\" > bam_read_seperation/$p\"_filtered.bam\"\n",
    "\n",
    "single\n",
    "\n",
    "done < acc.txt"
   ]
  },
  {
   "cell_type": "markdown",
   "id": "659e8981-40ec-4379-bc11-3bb2c0dca971",
   "metadata": {},
   "source": [
    "## Positive and Negative Read Coverage Plots"
   ]
  },
  {
   "cell_type": "code",
   "execution_count": 14,
   "id": "84b766f8-00b3-4c5f-abf5-2d61e2fe8c65",
   "metadata": {},
   "outputs": [],
   "source": [
    "!mkdir plotting/positive_depth\n",
    "!mkdir plotting/negative_depth"
   ]
  },
  {
   "cell_type": "code",
   "execution_count": null,
   "id": "af9be470-cf76-4f4d-ac10-4b098e9ec5b5",
   "metadata": {},
   "outputs": [],
   "source": [
    "while read p; do\n",
    "echo $p\n",
    "samtools depth -aa bam_read_seperation/$p\"_sense_sorted.bam\" > plotting/positive_depth/$p\".tsv\"\n",
    "samtools depth -aa bam_read_seperation/$p\"_antisense_sorted.bam\" > plotting/negative_depth/$p\".tsv\"\n",
    "done < acc.txt"
   ]
  },
  {
   "cell_type": "markdown",
   "id": "8336e68a-a596-4d92-b48c-ef2d81d14fbf",
   "metadata": {},
   "source": [
    "## Positive and Negative 5' start points and 3' End points"
   ]
  },
  {
   "cell_type": "code",
   "execution_count": 15,
   "id": "74bd72c9-13d6-485e-be0b-57b31af7db19",
   "metadata": {},
   "outputs": [],
   "source": [
    "!mkdir read_start_end"
   ]
  },
  {
   "cell_type": "code",
   "execution_count": null,
   "id": "071970f1-38a3-4910-90f7-d79049337e96",
   "metadata": {},
   "outputs": [],
   "source": [
    "while read p; do\n",
    "echo $p\n",
    "samtools view bam_read_seperation/$p\"_sense_sorted.bam\" | cut -f 4,6 > read_start_end/$p\"_sense.tsv\"\n",
    "samtools view bam_read_seperation/$p\"_antisense_sorted.bam\" | cut -f 4,6 > read_start_end/$p\"_antisense.tsv\"\n",
    "\n",
    "done < acc.txt"
   ]
  },
  {
   "cell_type": "code",
   "execution_count": 38,
   "id": "b1203043-80ee-4a96-80ea-7812c6ebc9fb",
   "metadata": {},
   "outputs": [
    {
     "name": "stdout",
     "output_type": "stream",
     "text": [
      "/mnt/metagenome/read_start_end\n"
     ]
    }
   ],
   "source": [
    "%cd /mnt/metagenome/read_start_end/"
   ]
  },
  {
   "cell_type": "code",
   "execution_count": 39,
   "id": "cbcb87bc-fdfd-4702-9f4f-36b24ba3eb49",
   "metadata": {},
   "outputs": [],
   "source": [
    "from cigar import Cigar\n",
    "\n",
    "# Example function to apply\n",
    "def cigar_len(x):\n",
    "    return Cigar(x).reference_length()"
   ]
  },
  {
   "cell_type": "code",
   "execution_count": 40,
   "id": "92b07d4c-65b4-4315-8c6b-333ff746e9d8",
   "metadata": {},
   "outputs": [
    {
     "name": "stdout",
     "output_type": "stream",
     "text": [
      "['SRR14849118', 'SRR14849121', 'SRR14849125', 'SRR14849126', 'SRR14849130', 'SRR14849131', 'SRR14849132', 'SRR14849145', 'SRR14849149']\n"
     ]
    }
   ],
   "source": [
    "# Function to read numbers from a file and return them as a list\n",
    "def read_acc_from_file(file_path):\n",
    "    acc = []\n",
    "    with open(file_path, 'r') as file:\n",
    "        for line in file:\n",
    "            # Strip the newline character and convert the line to an integer\n",
    "            accession = str(line.strip())\n",
    "            acc.append(accession)\n",
    "    return acc\n",
    "\n",
    "# Example usage\n",
    "file_path = '/mnt/metagenome/acc.txt'  # Replace with the path to your file\n",
    "acc_list = read_acc_from_file(file_path)\n",
    "\n",
    "print(acc_list)"
   ]
  },
  {
   "cell_type": "code",
   "execution_count": 41,
   "id": "9b2c02b2-83ee-4c54-93e9-f90515b8b709",
   "metadata": {},
   "outputs": [],
   "source": [
    "for i in acc_list:\n",
    "    \n",
    "    positive_start = pd.read_csv(i + \"_sense.tsv\", sep=\"\\t\", names=[\"Start\", \"CIGAR\"])\n",
    "    \n",
    "    positive_start['Length'] = positive_start['CIGAR'].apply(cigar_len)\n",
    "    positive_start['End'] = positive_start['Start'] + positive_start['Length']\n",
    "    \n",
    "    positive_start = positive_start.drop('Length', axis=1)\n",
    "    positive_start = positive_start.drop('CIGAR', axis=1)\n",
    "    \n",
    "    positive_start.to_csv(i + \"_sense_edited.tsv\", sep=\"\\t\", header=True, index=False)\n",
    "    \n",
    "    \n",
    "    negative_start = pd.read_csv(i + \"_antisense.tsv\", sep=\"\\t\", names=[\"Start\", \"CIGAR\"])\n",
    "    \n",
    "    negative_start['Length'] = negative_start['CIGAR'].apply(cigar_len)\n",
    "    negative_start['End'] = negative_start['Start'] + negative_start['Length']\n",
    "    \n",
    "    negative_start = negative_start.drop('Length', axis=1)\n",
    "    negative_start = negative_start.drop('CIGAR', axis=1)\n",
    "    \n",
    "    negative_start.to_csv(i + \"_antisense_edited.tsv\", sep=\"\\t\", header=True, index=False)"
   ]
  },
  {
   "cell_type": "code",
   "execution_count": 42,
   "id": "fee949e3-77df-41d7-a64a-6a85a6b10924",
   "metadata": {},
   "outputs": [
    {
     "name": "stdout",
     "output_type": "stream",
     "text": [
      "mkdir: cannot create directory ‘/mnt/metagenome/plotting/negative_start’: File exists\n",
      "mkdir: cannot create directory ‘/mnt/metagenome/plotting/positive_start’: File exists\n"
     ]
    }
   ],
   "source": [
    "!mkdir /mnt/metagenome/plotting/negative_start\n",
    "!mkdir /mnt/metagenome/plotting/positive_start"
   ]
  },
  {
   "cell_type": "code",
   "execution_count": 43,
   "id": "45ec648d-ccf5-4810-beda-aaa9ba60424a",
   "metadata": {},
   "outputs": [],
   "source": [
    "for i in acc_list:\n",
    "    original_depth = pd.read_csv(\"/mnt/metagenome/plotting/original_depth/\" + i + \".tsv\", sep=\"\\t\", names=[\"Virus\", \"Position\", \"Count\"])\n",
    "    full_range = pd.DataFrame({'Start': range(original_depth['Position'].min(), original_depth['Position'].max() + 1)})\n",
    "    \n",
    "    positive_start = pd.read_csv(i + \"_sense_edited.tsv\", sep=\"\\t\")\n",
    "    negative_start = pd.read_csv(i + \"_antisense_edited.tsv\", sep=\"\\t\")\n",
    "    \n",
    "    counts_pos = positive_start['Start'].value_counts().reset_index()\n",
    "    counts_neg = negative_start['Start'].value_counts().reset_index()\n",
    "    \n",
    "    # Rename the columns for clarity\n",
    "    counts_pos.columns = ['Start', 'Count']\n",
    "    counts_neg.columns = ['Start', 'Count']\n",
    "    \n",
    "    counts_pos = counts_pos.sort_values(by=['Start'])\n",
    "    counts_neg = counts_neg.sort_values(by=['Start'])\n",
    "\n",
    "    counts_pos_complete = pd.merge(full_range, counts_pos, on='Start', how='left').fillna(0)\n",
    "    counts_neg_complete = pd.merge(full_range, counts_neg, on='Start', how='left').fillna(0)\n",
    "    \n",
    "    counts_neg_complete.to_csv(\"/mnt/metagenome/plotting/negative_start/\" + i + \".tsv\", sep=\"\\t\", header=False, index=False)\n",
    "    counts_pos_complete.to_csv(\"/mnt/metagenome/plotting/positive_start/\" + i + \".tsv\", sep=\"\\t\", header=False, index=False)"
   ]
  },
  {
   "cell_type": "code",
   "execution_count": 24,
   "id": "5e718f8e-98b1-4da2-a37e-c8577454d541",
   "metadata": {},
   "outputs": [],
   "source": [
    "!mkdir /mnt/metagenome/plotting/negative_end\n",
    "!mkdir /mnt/metagenome/plotting/positive_end"
   ]
  },
  {
   "cell_type": "code",
   "execution_count": 44,
   "id": "dd1c4ef4-ace3-4f31-b15a-f2d8382561e6",
   "metadata": {},
   "outputs": [],
   "source": [
    "for i in acc_list:\n",
    "    original_depth = pd.read_csv(\"/mnt/metagenome/plotting/original_depth/\" + i + \".tsv\", sep=\"\\t\", names=[\"Virus\", \"Position\", \"Count\"])\n",
    "    full_range = pd.DataFrame({'End': range(original_depth['Position'].min(), original_depth['Position'].max() + 1)})\n",
    "    \n",
    "    positive_end = pd.read_csv(i + \"_sense_edited.tsv\", sep=\"\\t\")\n",
    "    negative_end = pd.read_csv(i + \"_antisense_edited.tsv\", sep=\"\\t\")\n",
    "    \n",
    "    counts_pos = positive_end['End'].value_counts().reset_index()\n",
    "    counts_neg = negative_end['End'].value_counts().reset_index()\n",
    "    \n",
    "    # Rename the columns for clarity\n",
    "    counts_pos.columns = ['End', 'Count']\n",
    "    counts_neg.columns = ['End', 'Count']\n",
    "    \n",
    "    counts_pos = counts_pos.sort_values(by=['End'])\n",
    "    counts_neg = counts_neg.sort_values(by=['End'])\n",
    "\n",
    "    counts_pos_complete = pd.merge(full_range, counts_pos, on='End', how='left').fillna(0)\n",
    "    counts_neg_complete = pd.merge(full_range, counts_neg, on='End', how='left').fillna(0)\n",
    "    \n",
    "    counts_neg_complete.to_csv(\"/mnt/metagenome/plotting/negative_end/\" + i + \".tsv\", sep=\"\\t\", header=False, index=False)\n",
    "    counts_pos_complete.to_csv(\"/mnt/metagenome/plotting/positive_end/\" + i + \".tsv\", sep=\"\\t\", header=False, index=False)"
   ]
  },
  {
   "cell_type": "markdown",
   "id": "d5953a68-4014-4101-a4bb-ae6cd8779c8b",
   "metadata": {},
   "source": [
    "# Plotting"
   ]
  },
  {
   "cell_type": "code",
   "execution_count": 45,
   "id": "c8e48d58-ca1b-4d04-bd00-5764df9934d6",
   "metadata": {},
   "outputs": [],
   "source": [
    "import pandas as pd\n",
    "import matplotlib\n",
    "import matplotlib.pyplot as plt\n",
    "%matplotlib inline\n",
    "import numpy as np\n",
    "import matplotlib.gridspec as gridspec\n",
    "import ruptures as rpt\n",
    "import pickle"
   ]
  },
  {
   "cell_type": "code",
   "execution_count": 46,
   "id": "76c2b863-6adf-4b04-93a2-10333fb2fdfd",
   "metadata": {},
   "outputs": [
    {
     "name": "stdout",
     "output_type": "stream",
     "text": [
      "['SRR14849118', 'SRR14849121', 'SRR14849125', 'SRR14849126', 'SRR14849130', 'SRR14849131', 'SRR14849132', 'SRR14849145', 'SRR14849149']\n"
     ]
    }
   ],
   "source": [
    "# Function to read numbers from a file and return them as a list\n",
    "def read_acc_from_file(file_path):\n",
    "    acc = []\n",
    "    with open(file_path, 'r') as file:\n",
    "        for line in file:\n",
    "            # Strip the newline character and convert the line to an integer\n",
    "            accession = str(line.strip())\n",
    "            acc.append(accession)\n",
    "    return acc\n",
    "\n",
    "# Example usage\n",
    "file_path = '/mnt/metagenome/acc.txt'  # Replace with the path to your file\n",
    "acc_list = read_acc_from_file(file_path)\n",
    "print(acc_list)"
   ]
  },
  {
   "cell_type": "code",
   "execution_count": 47,
   "id": "819d4a6d-9c6f-4da2-9ae3-f1d41bdf7c92",
   "metadata": {},
   "outputs": [
    {
     "name": "stdout",
     "output_type": "stream",
     "text": [
      "/mnt/metagenome/plotting\n"
     ]
    }
   ],
   "source": [
    "%cd /mnt/metagenome/plotting/"
   ]
  },
  {
   "cell_type": "code",
   "execution_count": 30,
   "id": "c98b8858-d82f-4408-b905-e6c4dc453498",
   "metadata": {},
   "outputs": [],
   "source": [
    "reference_virus = {\n",
    "\"ERR1802071\": \"Zika_brazil\",\"ERR1802073\": \"Zika_brazil\",\"ERR1802074\": \"Zika_brazil\",\"ERR1802079\": \"Zika_brazil\",\"SRR12615449\": \"Zika_brazil\",\"SRR12615452\": \"Zika_brazil\",\"SRR12615453\": \"Zika_brazil\",\"SRR12615466\": \"Zika_brazil\",\"SRR12615469\": \"Zika_brazil\",\"SRR12615470\": \"Zika_brazil\",\"SRR13084686\": \"Zika_brazil\",\"SRR13084689\": \"Zika_brazil\",\"SRR13084692\": \"Zika_brazil\",\"SRR13084695\": \"Zika_brazil\",\"SRR21109253\": \"Zika_brazil\",\"SRR21109254\": \"Zika_brazil\",\"SRR21109257\": \"Zika_brazil\",\"SRR7660688\": \"Zika_brazil\",\"SRR7660689\": \"Zika_brazil\",\"SRR7660692\": \"Zika_brazil\",\"SRR7660693\": \"Zika_brazil\",\"SRR7660696\": \"Zika_brazil\",\"SRR7660698\": \"Zika_brazil\",\"SRR7660703\": \"Zika_brazil\",\"SRR7660704\": \"Zika_brazil\",\"SRR7660705\": \"Zika_brazil\",\"SRR7660718\": \"Zika_brazil\",\"SRR7660719\": \"Zika_brazil\",\"SRR7660720\": \"Zika_brazil\",\"SRR7660721\": \"Zika_brazil\",\"SRR7660722\": \"Zika_brazil\",\"SRR7660723\": \"Zika_brazil\",\"SRR7660724\": \"Zika_brazil\",\"SRR7660725\": \"Zika_brazil\",\"SRR7660726\": \"Zika_brazil\",\"SRR7660739\": \"Zika_brazil\",\"SRR7660740\": \"Zika_brazil\",\"SRR7660741\": \"Zika_brazil\",\"SRR7660742\": \"Zika_brazil\",\"SRR7660743\": \"Zika_brazil\",\"SRR7660744\": \"Zika_brazil\",\"SRR7660745\": \"Zika_brazil\",\"SRR7660746\": \"Zika_brazil\",\"SRR7660747\": \"Zika_brazil\",\"SRR8155998\": \"Zika_brazil\",\"SRR8156000\": \"Zika_brazil\",\"SRR9106108\": \"Zika_brazil\",\"SRR9106110\": \"Zika_brazil\",\"SRR9106112\": \"Zika_brazil\",\"SRR9106114\": \"Zika_brazil\",\"SRR9106116\": \"Zika_brazil\",\"SRR9106118\": \"Zika_brazil\",\"SRR9106120\": \"Zika_brazil\",\"SRR9106122\": \"Zika_brazil\",\"SRR9106124\": \"Zika_brazil\",\"SRR9106126\": \"Zika_brazil\",\"SRR9106128\": \"Zika_brazil\",\"SRR9106130\": \"Zika_brazil\",\"SRR9106132\": \"Zika_brazil\",\"SRR9106134\": \"Zika_brazil\",\"SRR9106136\": \"Zika_brazil\",\"SRR9106138\": \"Zika_brazil\",\"SRR9106140\": \"Zika_brazil\",\"SRR9106142\": \"Zika_brazil\",\"SRR9106144\": \"Zika_brazil\",\"SRR9106146\": \"Zika_brazil\",\"SRR9610797\": \"Zika_brazil\",\"SRR9610798\": \"Zika_brazil\",\"SRR9610799\": \"Zika_brazil\",\"SRR9610800\": \"Zika_brazil\",\"SRR9610801\": \"Zika_brazil\",\"SRR9610805\": \"Zika_brazil\",\"SRR9971529\": \"Zika_brazil\",\"SRR9971530\": \"Zika_brazil\",\"SRR9971531\": \"Zika_brazil\",\"SRR9971532\": \"Zika_brazil\",\"SRR9971533\": \"Zika_brazil\",\"SRR9971534\": \"Zika_brazil\",\"SRR9971535\": \"Zika_brazil\",\"SRR9971536\": \"Zika_brazil\",\"SRR9971537\": \"Zika_brazil\",\"SRR9971538\": \"Zika_brazil\",\"SRR9971539\": \"Zika_brazil\",\"SRR9971540\": \"Zika_brazil\",\"SRR15923994\": \"Zika_uganda\",\"SRR15923995\": \"Zika_uganda\",\"SRR15923996\": \"Zika_uganda\",\"SRR8155999\": \"Zika_uganda\"\n",
    "}"
   ]
  },
  {
   "cell_type": "code",
   "execution_count": 48,
   "id": "dcf4b1e8-90fa-4df4-9181-6ea380115d35",
   "metadata": {},
   "outputs": [],
   "source": [
    "# chopped = 100\n",
    "# buffer = 105\n",
    "# detection_zone = 150\n",
    "def classifier_model(coverage, top3peaks, chopped, buffer, detection_zone):\n",
    "\n",
    "    mean_diff = coverage.copy()   \n",
    "    \n",
    "    coverage = coverage[chopped:-chopped]    \n",
    "\n",
    "    for i in range(chopped+buffer):\n",
    "        mean_diff[i][0]=0\n",
    "    for i in range(len(mean_diff)-(chopped+buffer),len(mean_diff)):\n",
    "        mean_diff[i][0]=0\n",
    "    # for i in mean_diff:\n",
    "    #     print(i)\n",
    "    \n",
    "    for index in range(buffer,len(coverage)-buffer):\n",
    "        left_mean = coverage[:index].mean()\n",
    "        right_mean = coverage[index:].mean()\n",
    "        diff = abs(right_mean - left_mean)\n",
    "        # print(diff)\n",
    "        mean_difference = diff\n",
    "        mean_diff[index+chopped][0]=mean_difference\n",
    "    \n",
    "    result = mean_diff.argmax()\n",
    "    # plt.plot(mean_diff)\n",
    "    # plt.show()\n",
    "        \n",
    "    if (top3peaks[0][0] - detection_zone) <= result <= (top3peaks[0][0] + detection_zone) or \\\n",
    "        (top3peaks[1][0] - detection_zone) <= result <= (top3peaks[1][0] + detection_zone) or \\\n",
    "        (top3peaks[2][0] - detection_zone) <= result <= (top3peaks[2][0] + detection_zone):\n",
    "        verdict = True\n",
    "    else:\n",
    "        verdict = False\n",
    "\n",
    "    return result, verdict"
   ]
  },
  {
   "cell_type": "code",
   "execution_count": 49,
   "id": "c1efab8d-ff22-461c-81ab-94a9ec82eff8",
   "metadata": {},
   "outputs": [],
   "source": [
    "chopped = 100\n",
    "buffer = 225\n",
    "detection_zone = 100\n",
    "\n",
    "for acc in acc_list:\n",
    "    \n",
    "    original_depth = pd.read_csv(\"original_depth/\" + acc + \".tsv\", sep=\"\\t\", names=[\"Virus\", \"Position\", \"Count\"])\n",
    "    positive_depth = pd.read_csv(\"positive_depth/\" + acc + \".tsv\", sep=\"\\t\", names=[\"Virus\", \"Position\", \"Count\"])\n",
    "    negative_depth = pd.read_csv(\"negative_depth/\" + acc + \".tsv\", sep=\"\\t\", names=[\"Virus\", \"Position\", \"Count\"])\n",
    "    positive_start = pd.read_csv(\"positive_start/\" + acc + \".tsv\", sep=\"\\t\", names=[\"Position\", \"Count\"])\n",
    "    negative_start = pd.read_csv(\"negative_start/\" + acc + \".tsv\", sep=\"\\t\", names=[\"Position\", \"Count\"])\n",
    "    positive_end = pd.read_csv(\"positive_end/\" + acc + \".tsv\", sep=\"\\t\", names=[\"Position\", \"Count\"])\n",
    "    negative_end = pd.read_csv(\"negative_end/\" + acc + \".tsv\", sep=\"\\t\", names=[\"Position\", \"Count\"])\n",
    "\n",
    "    #5' start peak detection\n",
    "    positive_start2 = pd.read_csv(\"positive_start/\" + acc + \".tsv\", sep=\"\\t\", names=[\"Position\", \"Count\"])\n",
    "    positive_start2 = positive_start2.sort_values(by=['Count'],ascending=False)\n",
    "    top3peaks = positive_start2.head(3)\n",
    "    top3peaks = top3peaks.to_numpy()\n",
    "\n",
    "\n",
    "    #Read coverage Change Point Detection\n",
    "    depth = pd.read_csv(\"positive_depth/\" + acc + \".tsv\", sep=\"\\t\", names=[\"Virus\", \"Position\", \"Count\"])\n",
    "    depth = depth.drop(columns=[\"Virus\"])\n",
    "    depth.set_index(\"Position\", inplace=True)\n",
    "    \n",
    "    coverage = depth['Count'].values.reshape(-1,1)\n",
    "\n",
    "    result, verdict = classifier_model(coverage, top3peaks, chopped, buffer, detection_zone)\n",
    "    \n",
    "    # Create a list of the dataframes for easy iteration\n",
    "    dataframes = [original_depth, positive_depth, negative_depth, positive_start, negative_start, positive_end, negative_end]\n",
    "    titles = [\"Zika Virus Coverage\", acc + \" Sense Reads Coverage\",acc + \" Antisense Reads Coverage\",\n",
    "              acc + \" Sense Read 5\\' End\",acc + \" Antisense Read 3\\' End\", acc + \" Sense Read 3\\' End\", acc + \" Antisense Read 5\\' End\"]\n",
    "    colours = [\"magma\",None, \"autumn\",None,\"autumn\",None, \"autumn\"]\n",
    "    \n",
    "    \n",
    "    \n",
    "    # Create subplots: 4 rows and 2 columns, but only using the first slot for a single graph\n",
    "    fig = plt.figure()\n",
    "    axs = []\n",
    "    gs = gridspec.GridSpec(4, 2)\n",
    "    axs.append(plt.subplot(gs[0, 0]))\n",
    "    axs.append(plt.subplot(gs[1, 0]))\n",
    "    axs.append(plt.subplot(gs[1, 1]))\n",
    "    axs.append(plt.subplot(gs[2, 0]))\n",
    "    axs.append(plt.subplot(gs[2, 1]))\n",
    "    axs.append(plt.subplot(gs[3, 0]))\n",
    "    axs.append(plt.subplot(gs[3, 1]))\n",
    "    axs.append(plt.subplot(gs[0, 1]))\n",
    "    \n",
    "    # Plot each DataFrame on its corresponding subplot\n",
    "    for i, df in enumerate(dataframes):\n",
    "        ax = axs[i]\n",
    "        if i==3:\n",
    "            ax.plot(top3peaks[0][0],top3peaks[0][1], \"ob\")\n",
    "            ax.plot(top3peaks[1][0],top3peaks[1][1], \"ob\")\n",
    "            ax.plot(top3peaks[2][0],top3peaks[2][1], \"ob\")\n",
    "            ax.legend(['Peaks'])\n",
    "        if i==1:\n",
    "            ax.vlines(result,ymin=0,ymax=df['Count'].max(), color='black', linestyles='dashed', linewidth = 4)\n",
    "\n",
    "        if i==0 or i==1 or i==2:\n",
    "            # predicted 5′ end of RNA “stem-loop 2” (SL2)\n",
    "            ax.vlines(10478,ymin=0,ymax=df['Count'].max(), color='blue', linestyles='dashed', linewidth = 1)\n",
    "\n",
    "            # predicted 5′ end of RNA “stem-loop 1” (SL1)\n",
    "            ax.vlines(10394,ymin=0,ymax=df['Count'].max(), color='blue', linestyles='dashed', linewidth = 1)\n",
    "            \n",
    "\n",
    "            #position from Andrew's paper: https://www.biorxiv.org/content/10.1101/112904v1.full\n",
    "            \n",
    "        df.plot(\"Position\", \"Count\", ax=ax, colormap=colours[i], figsize=(18, 18))\n",
    "        ax.set_title(titles[i])\n",
    "\n",
    "    \n",
    "    axs[7].annotate(\"Prediction: \" + str(verdict), (0.26,0.6), fontsize=35, bbox=dict(boxstyle=\"round\", fc=\"0.8\"))\n",
    "    axs[7].annotate(\"sfRNA predicted start: \" + str(result), (0.16,0.35), fontsize=30, bbox=dict(boxstyle=\"round\", fc=\"0.8\"))\n",
    "    \n",
    "    # Adjust layout for better spacing\n",
    "    plt.tight_layout()\n",
    "    \n",
    "    # plt.show()\n",
    "    fig.savefig('/mnt/metagenome/zika_final_plots/' + acc + '.png')\n",
    "    plt.close(fig)"
   ]
  },
  {
   "attachments": {},
   "cell_type": "markdown",
   "id": "06224650-b4aa-43a8-921f-701c74b3babf",
   "metadata": {},
   "source": [
    "### Classifier_100_100_225\n",
    "\n",
    "precision: 0.756097561\n",
    "\n",
    "recall: 1\n",
    "\n",
    "f1_score: 0.861111111"
   ]
  },
  {
   "cell_type": "code",
   "execution_count": null,
   "id": "de6ec6dc-aeb5-44c5-a851-ee28865cab3b",
   "metadata": {},
   "outputs": [],
   "source": []
  }
 ],
 "metadata": {
  "kernelspec": {
   "display_name": "Python 3 (ipykernel)",
   "language": "python",
   "name": "python3"
  },
  "language_info": {
   "codemirror_mode": {
    "name": "ipython",
    "version": 3
   },
   "file_extension": ".py",
   "mimetype": "text/x-python",
   "name": "python",
   "nbconvert_exporter": "python",
   "pygments_lexer": "ipython3",
   "version": "3.12.4"
  }
 },
 "nbformat": 4,
 "nbformat_minor": 5
}
