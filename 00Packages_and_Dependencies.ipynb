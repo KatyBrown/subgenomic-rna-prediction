{
 "cells": [
  {
   "cell_type": "markdown",
   "id": "3d46513d-b852-42df-955b-8f35a498ca07",
   "metadata": {},
   "source": [
    "# Packages and Dependencies"
   ]
  },
  {
   "cell_type": "markdown",
   "id": "7297ef3e",
   "metadata": {},
   "source": [
    "All the packages below are on my bioinfo conda env"
   ]
  },
  {
   "cell_type": "code",
   "execution_count": null,
   "id": "272ecbac-5799-4f8c-b0f5-e20ee3b4314d",
   "metadata": {},
   "outputs": [],
   "source": [
    "conda create --name bioinfo"
   ]
  },
  {
   "cell_type": "code",
   "execution_count": null,
   "id": "504a7a98-318a-4faa-9d04-83efd0905b10",
   "metadata": {},
   "outputs": [],
   "source": [
    "conda install jupyter"
   ]
  },
  {
   "cell_type": "code",
   "execution_count": null,
   "id": "ec921ed3-5e46-4816-ba62-593b15ac95a9",
   "metadata": {},
   "outputs": [],
   "source": [
    "pip install bash_kernel\n",
    "python -m bash_kernel.install"
   ]
  },
  {
   "cell_type": "markdown",
   "id": "2d5aa4a1-dc2b-4677-9c51-03254ff5eb5f",
   "metadata": {},
   "source": [
    "Installed nextflow into my conda env\n",
    "https://www.nextflow.io/docs/latest/install.html#installation"
   ]
  },
  {
   "cell_type": "markdown",
   "id": "8e3091e2-0cc4-4145-bc8a-1d1612c72603",
   "metadata": {},
   "source": [
    "Installed docker from the docs https://docs.docker.com/engine/install/ubuntu/"
   ]
  },
  {
   "cell_type": "code",
   "execution_count": null,
   "id": "f5dd9416-40b0-4072-b1ce-f9aca1cf7842",
   "metadata": {},
   "outputs": [],
   "source": [
    "sudo groupadd docker\n",
    "sudo usermod -aG docker $USER\n",
    "newgrp docker\n",
    "docker run hello-world"
   ]
  },
  {
   "cell_type": "code",
   "execution_count": null,
   "id": "fc048674-870f-4771-ada5-0208928a7a5e",
   "metadata": {},
   "outputs": [],
   "source": [
    "sudo apt install screen"
   ]
  },
  {
   "cell_type": "code",
   "execution_count": null,
   "id": "b34db3a3-2eb9-4222-ad73-31d6d9b2dcf5",
   "metadata": {},
   "outputs": [],
   "source": [
    "conda install bowtie2"
   ]
  },
  {
   "cell_type": "code",
   "execution_count": null,
   "id": "1c19d953",
   "metadata": {
    "vscode": {
     "languageId": "powershell"
    }
   },
   "outputs": [],
   "source": [
    "conda install bioconda::trim-galore"
   ]
  },
  {
   "cell_type": "code",
   "execution_count": null,
   "id": "403f7bb9-6e34-4a29-a376-c2286fd1214a",
   "metadata": {},
   "outputs": [],
   "source": [
    "conda install bioconda::samtools"
   ]
  },
  {
   "cell_type": "code",
   "execution_count": null,
   "id": "f3575f3a-04d4-4f81-b688-56daf97f52aa",
   "metadata": {},
   "outputs": [],
   "source": [
    "pip install pandas"
   ]
  },
  {
   "cell_type": "code",
   "execution_count": null,
   "id": "17b2f003-76c3-468a-8a69-aa27b05304b5",
   "metadata": {},
   "outputs": [],
   "source": [
    "pip install matplotlib"
   ]
  },
  {
   "cell_type": "code",
   "execution_count": null,
   "id": "0bb27333-5c14-4a9b-9308-605688b7d13b",
   "metadata": {},
   "outputs": [],
   "source": [
    "conda install -c bioconda cigar"
   ]
  },
  {
   "cell_type": "code",
   "execution_count": null,
   "id": "a35a177a",
   "metadata": {
    "vscode": {
     "languageId": "plaintext"
    }
   },
   "outputs": [],
   "source": [
    "sudo apt install sra-toolkit"
   ]
  },
  {
   "cell_type": "code",
   "execution_count": null,
   "id": "97dbfaaf-cc5b-4768-8c16-ec69d3eebc8b",
   "metadata": {},
   "outputs": [],
   "source": [
    "pip install ruptures"
   ]
  },
  {
   "cell_type": "code",
   "execution_count": null,
   "id": "d91a7800-34af-45ca-be8b-0917c92207a5",
   "metadata": {},
   "outputs": [],
   "source": [
    "conda install scipy"
   ]
  },
  {
   "cell_type": "code",
   "execution_count": null,
   "id": "34c98d37-f727-4f68-98fc-1b64ad55889c",
   "metadata": {},
   "outputs": [],
   "source": [
    "conda install pysam"
   ]
  },
  {
   "cell_type": "code",
   "execution_count": null,
   "id": "2b5182d7-2975-4fc0-aa91-b37d39ee0b71",
   "metadata": {},
   "outputs": [],
   "source": [
    "sudo apt install cmake"
   ]
  },
  {
   "cell_type": "code",
   "execution_count": null,
   "id": "b247a286-f8e2-42bc-9e2d-461ace85e1ed",
   "metadata": {},
   "outputs": [],
   "source": [
    "git clone https://github.com/genome/bam-readcount \n",
    "cd bam-readcount\n",
    "mkdir build\n",
    "cd build\n",
    "cmake ..\n",
    "make\n",
    "\n",
    "cp bin/bam-readcount /home/purav/miniconda3/envs/bioinfo/bin"
   ]
  },
  {
   "cell_type": "code",
   "execution_count": null,
   "id": "e958c361-503c-4fde-ac82-1c646f16412c",
   "metadata": {},
   "outputs": [],
   "source": [
    "conda install fastp"
   ]
  },
  {
   "cell_type": "code",
   "execution_count": null,
   "id": "6fc77ff0",
   "metadata": {
    "vscode": {
     "languageId": "plaintext"
    }
   },
   "outputs": [],
   "source": [
    "conda create --name rseqc rseqc"
   ]
  },
  {
   "cell_type": "code",
   "execution_count": null,
   "id": "e9f4eab4-f94c-448d-a691-75ea7ec95840",
   "metadata": {},
   "outputs": [],
   "source": [
    "pip3 install RSeQC"
   ]
  },
  {
   "cell_type": "code",
   "execution_count": null,
   "id": "5dca90c1-3319-4c30-8eca-3a2699ab934b",
   "metadata": {},
   "outputs": [],
   "source": [
    "conda install seqkit"
   ]
  },
  {
   "cell_type": "code",
   "execution_count": null,
   "id": "f14c7ac7-eef5-4c53-bc8e-66500efc65b3",
   "metadata": {},
   "outputs": [],
   "source": [
    "conda install bedtools"
   ]
  },
  {
   "cell_type": "code",
   "execution_count": null,
   "id": "c91655c8",
   "metadata": {
    "vscode": {
     "languageId": "plaintext"
    }
   },
   "outputs": [],
   "source": [
    "wget https://github.com/enasequence/enaBrowserTools/archive/refs/tags/v1.7.1.tar.gz\n",
    "tar -xvzf v1.7.1.tar.gz\n",
    "#change SafeConfigParser on Line 32 of Utils.py to ConfigParser"
   ]
  },
  {
   "cell_type": "code",
   "execution_count": null,
   "id": "3998d9ee",
   "metadata": {
    "vscode": {
     "languageId": "plaintext"
    }
   },
   "outputs": [],
   "source": [
    "wget https://d3gcli72yxqn2z.cloudfront.net/downloads/connect/latest/bin/ibm-aspera-connect_4.2.12.780_linux_x86_64.tar.gz\n",
    "tar -xvzf ibm-aspera-connect_4.2.12.780_linux_x86_64.tar.gz"
   ]
  }
 ],
 "metadata": {
  "kernelspec": {
   "display_name": "Bash",
   "language": "bash",
   "name": "bash"
  },
  "language_info": {
   "codemirror_mode": "shell",
   "file_extension": ".sh",
   "mimetype": "text/x-sh",
   "name": "bash"
  }
 },
 "nbformat": 4,
 "nbformat_minor": 5
}
