{
 "cells": [
  {
   "cell_type": "markdown",
   "id": "63e880db-fa78-4cfc-ab69-7f9c02bdf71b",
   "metadata": {},
   "source": [
    "# Subgenomic RNA Expression"
   ]
  },
  {
   "cell_type": "markdown",
   "id": "b4c235c7-c421-4e5f-aeed-dc0e4c01dcd1",
   "metadata": {},
   "source": [
    "Copying the Fastq files that passed QC (in my standards) from the RNAseq pipline into the Virus_expression folder"
   ]
  },
  {
   "cell_type": "code",
   "execution_count": null,
   "id": "8ed37007-d0c8-4175-8b28-ead7b1298d2a",
   "metadata": {},
   "outputs": [],
   "source": [
    "mkdir /mnt/Virus_expression\n",
    "cd /mnt/Virus_expression\n",
    "\n",
    "cp /mnt/fastq/*ERR1802071* .\n",
    "cp /mnt/fastq/*ERR1802074* .\n",
    "cp /mnt/fastq/*SRR8155999* .\n",
    "cp /mnt/fastq/*SRR16202396* .\n",
    "cp /mnt/fastq/*SRR15923994* .\n",
    "cp /mnt/fastq/*SRR6822148* .\n",
    "cp /mnt/fastq/*SRR10071297* .\n",
    "cp /mnt/fastq/*SRR10071298* .\n",
    "cp /mnt/fastq/*SRR5206482* .\n",
    "cp /mnt/fastq/*SRR5317830* .\n",
    "\n",
    "gzip *"
   ]
  },
  {
   "cell_type": "code",
   "execution_count": null,
   "id": "4b1f8e48-b1d7-48c9-8d8f-28b64c4f9d29",
   "metadata": {},
   "outputs": [],
   "source": [
    "trim_galore -o trimmed/ ERX1865802_ERR1802071.fastq\n",
    "trim_galore -o trimmed/ ERX1865805_ERR1802074.fastq"
   ]
  },
  {
   "cell_type": "code",
   "execution_count": null,
   "id": "1015377d-4ce5-4e81-b475-f1050d8a3688",
   "metadata": {},
   "outputs": [],
   "source": [
    "trim_galore --paired -o trimmed/ SRR5206482_1.fastq SRR5206482_2.fastq\n",
    "trim_galore --paired -o trimmed/ SRR5317830_1.fastq SRR5317830_2.fastq\n",
    "trim_galore --paired -o trimmed/ SRX12214107_SRR15923994_1.fastq SRX12214107_SRR15923994_2.fastq\n",
    "trim_galore --paired -o trimmed/ SRX12486754_SRR16202396_1.fastq SRX12486754_SRR16202396_2.fastq\n",
    "trim_galore --paired -o trimmed/ SRX3778988_SRR6822148_1.fastq SRX3778988_SRR6822148_2.fastq\n",
    "trim_galore --paired -o trimmed/ SRX4976902_SRR8155999_1.fastq SRX4976902_SRR8155999_2.fastq\n",
    "trim_galore --paired  SRX6804830_SRR10071297_1.fastq SRX6804830_SRR10071297_2.fastq-o trimmed/ SRX6804830_SRR10071297_1.fastq SRX6804830_SRR10071297_2.fastq\n",
    "trim_galore --paired -o trimmed/ SRX6804831_SRR10071298_1.fastq SRX6804831_SRR10071298_2.fastq\n"
   ]
  },
  {
   "cell_type": "code",
   "execution_count": null,
   "id": "d5b1097b-8907-46a6-9011-3703ef953a49",
   "metadata": {},
   "outputs": [],
   "source": [
    "bowtie2-build -f Dengue_virus.fasta Dengue_virus\n",
    "bowtie2-build -f Feline_calicivirus.fasta Feline_calicivirus\n",
    "bowtie2-build -f Murine_norovirus.fasta Murine_norovirus\n",
    "bowtie2-build -f Porcine_sapovirus.fasta Porcine_sapovirus\n",
    "bowtie2-build -f West_Nile_virus.fasta West_Nile_virus\n",
    "bowtie2-build -f Zika_virus.fasta Zika_virus"
   ]
  },
  {
   "cell_type": "code",
   "execution_count": null,
   "id": "1ddf6d28-b024-4391-a8df-1f49d5fa0032",
   "metadata": {},
   "outputs": [],
   "source": [
    "Virus=Dengue_virus\n",
    "p=SRR5206482\n",
    "\n",
    "time bowtie2 --local --very-sensitive-local --threads 8 -k 10 -x \"virus_ref/\"$Virus -1 trimmed/SRR5206482_1_val_1.fq -2 trimmed/SRR5206482_2_val_2.fq -S  $Virus\"_\"$p\n",
    "\n",
    "samtools view -S -b -@ 8 -F 260 $Virus\"_\"$p > $Virus\"_\"$p\".bam\"\n",
    "\n",
    "rm $Virus\"_\"$p\n",
    "\n",
    "samtools sort $Virus\"_\"$p\".bam\" > $Virus\"_\"$p\"_sorted.bam\"\n",
    "\n",
    "rm $Virus\"_\"$p\".bam\"\n",
    "\n",
    "samtools index $Virus\"_\"$p\"_sorted.bam\"\n"
   ]
  },
  {
   "cell_type": "code",
   "execution_count": null,
   "id": "a2c95474-3b1b-4159-b908-54ea8ff543fd",
   "metadata": {},
   "outputs": [],
   "source": [
    "Virus=Dengue_virus\n",
    "p=SRR5317830\n",
    "\n",
    "time bowtie2 --local --very-sensitive-local --threads 8 -k 10 -x \"virus_ref/\"$Virus -1 trimmed/SRR5317830_1_val_1.fq -2 trimmed/SRR5317830_2_val_2.fq -S  $Virus\"_\"$p\n",
    "\n",
    "samtools view -S -b -@ 8 -F 260 $Virus\"_\"$p > $Virus\"_\"$p\".bam\"\n",
    "\n",
    "rm $Virus\"_\"$p\n",
    "\n",
    "samtools sort $Virus\"_\"$p\".bam\" > $Virus\"_\"$p\"_sorted.bam\"\n",
    "\n",
    "rm $Virus\"_\"$p\".bam\"\n",
    "\n",
    "samtools index $Virus\"_\"$p\"_sorted.bam\"\n"
   ]
  },
  {
   "cell_type": "code",
   "execution_count": null,
   "id": "19ee1e99-aa53-4af1-bd75-8e6313eae25d",
   "metadata": {},
   "outputs": [],
   "source": [
    "Virus=Murine_norovirus\n",
    "p=SRR6822148\n",
    "\n",
    "time bowtie2 --local --very-sensitive-local --threads 8 -k 10 -x \"virus_ref/\"$Virus -1 trimmed/SRX3778988_SRR6822148_1_val_1.fq -2 trimmed/SRX3778988_SRR6822148_2_val_2.fq -S  $Virus\"_\"$p\n",
    "\n",
    "samtools view -S -b -@ 8 -F 260 $Virus\"_\"$p > $Virus\"_\"$p\".bam\"\n",
    "\n",
    "rm $Virus\"_\"$p\n",
    "\n",
    "samtools sort $Virus\"_\"$p\".bam\" > $Virus\"_\"$p\"_sorted.bam\"\n",
    "\n",
    "rm $Virus\"_\"$p\".bam\"\n",
    "\n",
    "samtools index $Virus\"_\"$p\"_sorted.bam\"\n"
   ]
  },
  {
   "cell_type": "code",
   "execution_count": null,
   "id": "51e6e812-6bee-4420-9e77-a9554e2882e3",
   "metadata": {},
   "outputs": [],
   "source": [
    "Virus=Porcine_sapovirus\n",
    "p=SRR10071297\n",
    "\n",
    "time bowtie2 --local --very-sensitive-local --threads 8 -k 10 -x \"virus_ref/\"$Virus -1 trimmed/SRX6804830_SRR10071297_1_val_1.fq -2 trimmed/SRX6804830_SRR10071297_2_val_2.fq -S  $Virus\"_\"$p\n",
    "\n",
    "samtools view -S -b -@ 8 -F 260 $Virus\"_\"$p > $Virus\"_\"$p\".bam\"\n",
    "\n",
    "rm $Virus\"_\"$p\n",
    "\n",
    "samtools sort $Virus\"_\"$p\".bam\" > $Virus\"_\"$p\"_sorted.bam\"\n",
    "\n",
    "rm $Virus\"_\"$p\".bam\"\n",
    "\n",
    "samtools index $Virus\"_\"$p\"_sorted.bam\"\n"
   ]
  },
  {
   "cell_type": "code",
   "execution_count": null,
   "id": "7165c904-3578-4019-90d2-0930653ff4fb",
   "metadata": {},
   "outputs": [],
   "source": [
    "Virus=Porcine_sapovirus\n",
    "p=SRR10071298\n",
    "\n",
    "time bowtie2 --local --very-sensitive-local --threads 8 -k 10 -x \"virus_ref/\"$Virus -1 trimmed/SRX6804831_SRR10071298_1_val_1.fq -2 trimmed/SRX6804831_SRR10071298_2_val_2.fq -S  $Virus\"_\"$p\n",
    "\n",
    "samtools view -S -b -@ 8 -F 260 $Virus\"_\"$p > $Virus\"_\"$p\".bam\"\n",
    "\n",
    "rm $Virus\"_\"$p\n",
    "\n",
    "samtools sort $Virus\"_\"$p\".bam\" > $Virus\"_\"$p\"_sorted.bam\"\n",
    "\n",
    "rm $Virus\"_\"$p\".bam\"\n",
    "\n",
    "samtools index $Virus\"_\"$p\"_sorted.bam\"\n"
   ]
  },
  {
   "cell_type": "code",
   "execution_count": null,
   "id": "64c88042-0aa3-44ad-8b03-0ac25752eae5",
   "metadata": {},
   "outputs": [],
   "source": [
    "Virus=Feline_calicivirus\n",
    "p=SRR16202396\n",
    "\n",
    "time bowtie2 --local --very-sensitive-local --threads 8 -k 10 -x \"virus_ref/\"$Virus -1 trimmed/SRX12486754_SRR16202396_1_val_1.fq -2 trimmed/SRX12486754_SRR16202396_2_val_2.fq -S  $Virus\"_\"$p\n",
    "\n",
    "samtools view -S -b -@ 8 -F 260 $Virus\"_\"$p > $Virus\"_\"$p\".bam\"\n",
    "\n",
    "rm $Virus\"_\"$p\n",
    "\n",
    "samtools sort $Virus\"_\"$p\".bam\" > $Virus\"_\"$p\"_sorted.bam\"\n",
    "\n",
    "rm $Virus\"_\"$p\".bam\"\n",
    "\n",
    "samtools index $Virus\"_\"$p\"_sorted.bam\"\n"
   ]
  },
  {
   "cell_type": "code",
   "execution_count": null,
   "id": "540c571b-24be-4ed1-b9f6-79e160209ebc",
   "metadata": {},
   "outputs": [],
   "source": [
    "Virus=Zika_virus\n",
    "p=ERR1802071\n",
    "\n",
    "time bowtie2 --local --very-sensitive-local --threads 8 -k 10 -x \"virus_ref/\"$Virus -U trimmed/ERX1865802_ERR1802071_trimmed.fq -S  $Virus\"_\"$p\n",
    "\n",
    "samtools view -S -b -@ 8 -F 260 $Virus\"_\"$p > $Virus\"_\"$p\".bam\"\n",
    "\n",
    "rm $Virus\"_\"$p\n",
    "\n",
    "samtools sort $Virus\"_\"$p\".bam\" > $Virus\"_\"$p\"_sorted.bam\"\n",
    "\n",
    "rm $Virus\"_\"$p\".bam\"\n",
    "\n",
    "samtools index $Virus\"_\"$p\"_sorted.bam\"\n"
   ]
  },
  {
   "cell_type": "code",
   "execution_count": null,
   "id": "89695925-0697-4e57-bcbb-6c419eea0fae",
   "metadata": {},
   "outputs": [],
   "source": [
    "Virus=Zika_virus\n",
    "p=ERR1802074\n",
    "\n",
    "time bowtie2 --local --very-sensitive-local --threads 8 -k 10 -x \"virus_ref/\"$Virus -U trimmed/ERX1865805_ERR1802074_trimmed.fq -S  $Virus\"_\"$p\n",
    "\n",
    "samtools view -S -b -@ 8 -F 260 $Virus\"_\"$p > $Virus\"_\"$p\".bam\"\n",
    "\n",
    "rm $Virus\"_\"$p\n",
    "\n",
    "samtools sort $Virus\"_\"$p\".bam\" > $Virus\"_\"$p\"_sorted.bam\"\n",
    "\n",
    "rm $Virus\"_\"$p\".bam\"\n",
    "\n",
    "samtools index $Virus\"_\"$p\"_sorted.bam\"\n"
   ]
  },
  {
   "cell_type": "code",
   "execution_count": null,
   "id": "4e37cc21-168a-4e36-8fe1-b9b7fe1e2bb7",
   "metadata": {},
   "outputs": [],
   "source": [
    "Virus=Zika_virus\n",
    "p=SRR8155999\n",
    "\n",
    "time bowtie2 --local --very-sensitive-local --threads 8 -k 10 -x \"virus_ref/\"$Virus -1 trimmed/SRX4976902_SRR8155999_1_val_1.fq -2 trimmed/SRX4976902_SRR8155999_2_val_2.fq -S  $Virus\"_\"$p\n",
    "\n",
    "samtools view -S -b -@ 8 -F 260 $Virus\"_\"$p > $Virus\"_\"$p\".bam\"\n",
    "\n",
    "rm $Virus\"_\"$p\n",
    "\n",
    "samtools sort $Virus\"_\"$p\".bam\" > $Virus\"_\"$p\"_sorted.bam\"\n",
    "\n",
    "rm $Virus\"_\"$p\".bam\"\n",
    "\n",
    "samtools index $Virus\"_\"$p\"_sorted.bam\"\n"
   ]
  },
  {
   "cell_type": "code",
   "execution_count": null,
   "id": "fc617dca-bd5b-48b5-a95e-70ca2e231740",
   "metadata": {},
   "outputs": [],
   "source": [
    "Virus=Zika_virus\n",
    "p=SRR15923994\n",
    "\n",
    "time bowtie2 --local --very-sensitive-local --threads 8 -k 10 -x \"virus_ref/\"$Virus -1 trimmed/SRX12214107_SRR15923994_1_val_1.fq -2 trimmed/SRX12214107_SRR15923994_2_val_2.fq -S  $Virus\"_\"$p\n",
    "\n",
    "samtools view -S -b -@ 8 -F 260 $Virus\"_\"$p > $Virus\"_\"$p\".bam\"\n",
    "\n",
    "rm $Virus\"_\"$p\n",
    "\n",
    "samtools sort $Virus\"_\"$p\".bam\" > $Virus\"_\"$p\"_sorted.bam\"\n",
    "\n",
    "rm $Virus\"_\"$p\".bam\"\n",
    "\n",
    "samtools index $Virus\"_\"$p\"_sorted.bam\"\n"
   ]
  }
 ],
 "metadata": {
  "kernelspec": {
   "display_name": "Bash",
   "language": "bash",
   "name": "bash"
  },
  "language_info": {
   "codemirror_mode": "shell",
   "file_extension": ".sh",
   "mimetype": "text/x-sh",
   "name": "bash"
  }
 },
 "nbformat": 4,
 "nbformat_minor": 5
}
