{
 "cells": [
  {
   "cell_type": "markdown",
   "id": "6a646e59-2e76-45d2-b058-901f3abc2af6",
   "metadata": {},
   "source": [
    "# Nextflow"
   ]
  },
  {
   "cell_type": "code",
   "execution_count": null,
   "id": "87181fd0-e181-4b64-944c-574ec68f6870",
   "metadata": {},
   "outputs": [],
   "source": [
    "nextflow run nf-core/fetchngs --input SRR_Acc_List.csv --outdir ./results -profile docker"
   ]
  },
  {
   "cell_type": "code",
   "execution_count": null,
   "id": "b7d04761-d6a3-4992-aac5-68540cfe2d94",
   "metadata": {},
   "outputs": [],
   "source": [
    "nextflow run nf-core/fetchngs --input SRR_Acc_List.csv --outdir /mnt/second_round/ -profile docker --nf_core_pipeline rnaseq"
   ]
  },
  {
   "cell_type": "code",
   "execution_count": null,
   "id": "47163e7f-bfa1-46d5-995c-6ba2feee861e",
   "metadata": {},
   "outputs": [],
   "source": [
    "nextflow run nf-core/fetchngs --input /mnt/SRR_Acc_List_Labdata.csv --outdir /mnt/third_round/ -profile docker --nf_core_pipeline rnaseq"
   ]
  },
  {
   "cell_type": "code",
   "execution_count": null,
   "id": "f8e2481d-7590-41af-ad16-7323a223e826",
   "metadata": {},
   "outputs": [],
   "source": [
    "#Vero cells or African Green Monkey\n",
    "wget https://ftp.ensembl.org/pub/release-112/fasta/chlorocebus_sabaeus/dna/Chlorocebus_sabaeus.ChlSab1.1.dna.toplevel.fa.gz\n",
    "wget https://ftp.ensembl.org/pub/release-112/gtf/chlorocebus_sabaeus/Chlorocebus_sabaeus.ChlSab1.1.112.gtf.gz"
   ]
  },
  {
   "cell_type": "code",
   "execution_count": null,
   "id": "0480c61c-1a1c-40ff-b610-9755c16f6d0f",
   "metadata": {},
   "outputs": [],
   "source": [
    "#Human\n",
    "wget https://ftp.ensembl.org/pub/release-112/fasta/homo_sapiens/dna/Homo_sapiens.GRCh38.dna.toplevel.fa.gz\n",
    "wget https://ftp.ensembl.org/pub/release-112/gtf/homo_sapiens/Homo_sapiens.GRCh38.112.gtf.gz"
   ]
  },
  {
   "cell_type": "code",
   "execution_count": null,
   "id": "0329915f-1f89-4390-83cb-08f72df1fa81",
   "metadata": {},
   "outputs": [],
   "source": [
    "#Mouse\n",
    "wget https://ftp.ensembl.org/pub/release-112/fasta/mus_musculus/dna/Mus_musculus.GRCm39.dna.toplevel.fa.gz\n",
    "wget https://ftp.ensembl.org/pub/release-112/gtf/mus_musculus/Mus_musculus.GRCm39.112.gtf.gz"
   ]
  },
  {
   "cell_type": "code",
   "execution_count": null,
   "id": "eb149a65-8bec-4f80-873d-b775a8534204",
   "metadata": {},
   "outputs": [],
   "source": [
    "#Cat\n",
    "wget https://ftp.ensembl.org/pub/release-112/fasta/felis_catus/dna/Felis_catus.Felis_catus_9.0.dna.toplevel.fa.gz\n",
    "wget https://ftp.ensembl.org/pub/release-112/gtf/felis_catus/Felis_catus.Felis_catus_9.0.112.gtf.gz"
   ]
  },
  {
   "cell_type": "code",
   "execution_count": null,
   "id": "ec9d0f42-d291-4b71-b809-e265e04383ac",
   "metadata": {},
   "outputs": [],
   "source": [
    "#Pig\n",
    "wget https://ftp.ensembl.org/pub/release-112/fasta/sus_scrofa/dna/Sus_scrofa.Sscrofa11.1.dna.toplevel.fa.gz\n",
    "wget https://ftp.ensembl.org/pub/release-112/gtf/sus_scrofa/Sus_scrofa.Sscrofa11.1.112.gtf.gz"
   ]
  },
  {
   "cell_type": "code",
   "execution_count": null,
   "id": "daf96b8f-4bf7-437e-b731-3dbeea2c37da",
   "metadata": {},
   "outputs": [],
   "source": [
    "#Chicken\n",
    "wget https://ftp.ensembl.org/pub/release-112/fasta/gallus_gallus/dna/Gallus_gallus.bGalGal1.mat.broiler.GRCg7b.dna.toplevel.fa.gz\n",
    "wget https://ftp.ensembl.org/pub/release-112/gtf/gallus_gallus/Gallus_gallus.bGalGal1.mat.broiler.GRCg7b.112.gtf.gz"
   ]
  },
  {
   "cell_type": "code",
   "execution_count": null,
   "id": "fc800f86-1bf3-48ee-9078-8a709ac79142",
   "metadata": {},
   "outputs": [],
   "source": [
    "#Aedes albopictus\n",
    "wget http://ftp.ensemblgenomes.org/pub/metazoa/release-59/fasta/aedes_albopictus/dna/Aedes_albopictus.AaloF1.dna.toplevel.fa.gz\n",
    "wget https://ftp.ensemblgenomes.ebi.ac.uk/pub/metazoa/release-59/gff3/aedes_albopictus/Aedes_albopictus.AaloF1.59.gff3.gz"
   ]
  },
  {
   "cell_type": "code",
   "execution_count": null,
   "id": "4931cf65-e4b4-466d-bba4-ec36f2369d61",
   "metadata": {},
   "outputs": [],
   "source": [
    "#Culex quinquefasciatus\n",
    "wget http://ftp.ensemblgenomes.org/pub/metazoa/release-59/fasta/culex_quinquefasciatus_gca015732765v1/dna/Culex_quinquefasciatus_gca015732765v1.VPISU_Cqui_1.0_pri_paternal.dna.toplevel.fa.gz\n",
    "wget https://ftp.ensemblgenomes.ebi.ac.uk/pub/metazoa/release-59/gff3/culex_quinquefasciatus_gca015732765v1/Culex_quinquefasciatus_gca015732765v1.VPISU_Cqui_1.0_pri_paternal.59.gff3.gz"
   ]
  },
  {
   "cell_type": "code",
   "execution_count": null,
   "id": "a62cb413-dd2f-4f1a-811a-350d8b7d7f4b",
   "metadata": {},
   "outputs": [],
   "source": [
    "nextflow run \\\n",
    "    nf-core/rnaseq \\\n",
    "    --input samplesheet_Aedes_albopictus.csv \\\n",
    "    --outdir final_alignment \\\n",
    "    --gff /mnt/references/Aedes_albopictus.AaloF1.59.gff.gz\\\n",
    "    --fasta /mnt/references/Aedes_albopictus.AaloF1.dna.toplevel.fa.gz \\\n",
    "    --igenomes_ignore \\\n",
    "    --genome null \\\n",
    "    -profile docker \\\n",
    "    --max_memory 31.GB \\\n",
    "    --max_cpus 8 \\\n",
    "    --aligner hisat2\n",
    "\n",
    "nextflow run \\\n",
    "    nf-core/rnaseq \\\n",
    "    --input samplesheet_Chlorocebus_sabaeus.csv \\\n",
    "    --outdir final_alignment2 \\\n",
    "    --gtf /mnt/references/Chlorocebus_sabaeus.ChlSab1.1.112.gtf.gz \\\n",
    "    --fasta /mnt/references/Chlorocebus_sabaeus.ChlSab1.1.dna.toplevel.fa.gz \\\n",
    "    --igenomes_ignore \\\n",
    "    --genome null \\\n",
    "    -profile docker \\\n",
    "    --max_memory 31.GB \\\n",
    "    --max_cpus 8 \\\n",
    "    --aligner hisat2\n",
    "\n",
    "nextflow run \\\n",
    "    nf-core/rnaseq \\\n",
    "    --input samplesheet_Culex_quinquefasciatus.csv \\\n",
    "    --outdir final_alignment3 \\\n",
    "    --gff /mnt/references/Culex_quinquefasciatus_gca015732765v1.VPISU_Cqui_1.0_pri_paternal.59.gff.gz \\\n",
    "    --fasta /mnt/references/Culex_quinquefasciatus_gca015732765v1.VPISU_Cqui_1.0_pri_paternal.dna.toplevel.fa.gz \\\n",
    "    --igenomes_ignore \\\n",
    "    --genome null \\\n",
    "    -profile docker \\\n",
    "    --max_memory 31.GB \\\n",
    "    --max_cpus 8 \\\n",
    "    --aligner hisat2\n",
    "\n",
    "nextflow run \\\n",
    "    nf-core/rnaseq \\\n",
    "    --input samplesheet_Felis_catus.csv \\\n",
    "    --outdir final_alignment4 \\\n",
    "    --gtf /mnt/references/Felis_catus.Felis_catus_9.0.112.gtf.gz \\\n",
    "    --fasta /mnt/references/Felis_catus.Felis_catus_9.0.dna.toplevel.fa.gz \\\n",
    "    --igenomes_ignore \\\n",
    "    --genome null \\\n",
    "    -profile docker \\\n",
    "    --max_memory 31.GB \\\n",
    "    --max_cpus 8 \\\n",
    "    --aligner hisat2\n",
    "\n",
    "nextflow run \\\n",
    "    nf-core/rnaseq \\\n",
    "    --input samplesheet_Gallus_gallus.csv \\\n",
    "    --outdir final_alignment5 \\\n",
    "    --gtf /mnt/references/Gallus_gallus.bGalGal1.mat.broiler.GRCg7b.112.gtf.gz \\\n",
    "    --fasta /mnt/references/Gallus_gallus.bGalGal1.mat.broiler.GRCg7b.dna.toplevel.fa.gz \\\n",
    "    --igenomes_ignore \\\n",
    "    --genome null \\\n",
    "    -profile docker \\\n",
    "    --max_memory 31.GB \\\n",
    "    --max_cpus 8 \\\n",
    "    --aligner hisat2\n",
    "\n",
    "nextflow run \\\n",
    "    nf-core/rnaseq \\\n",
    "    --input samplesheet_Homo_sapiens.csv \\\n",
    "    --outdir final_alignment6 \\\n",
    "    --gtf /mnt/references/Homo_sapiens.GRCh38.112.gtf.gz \\\n",
    "    --fasta /mnt/references/Homo_sapiens.GRCh38.dna.toplevel.fa.gz \\\n",
    "    --igenomes_ignore \\\n",
    "    --genome null \\\n",
    "    -profile docker \\\n",
    "    --max_memory 31.GB \\\n",
    "    --max_cpus 8 \\\n",
    "    --aligner hisat2\n",
    "\n",
    "nextflow run \\\n",
    "    nf-core/rnaseq \\\n",
    "    --input samplesheet_Mus_musculus.csv \\\n",
    "    --outdir final_alignment7 \\\n",
    "    --gtf /mnt/references/Mus_musculus.GRCm39.112.gtf.gz \\\n",
    "    --fasta /mnt/references/Mus_musculus.GRCm39.dna.toplevel.fa.gz \\\n",
    "    --igenomes_ignore \\\n",
    "    --genome null \\\n",
    "    -profile docker \\\n",
    "    --max_memory 31.GB \\\n",
    "    --max_cpus 8 \\\n",
    "    --aligner hisat2\n",
    "\n",
    "nextflow run \\\n",
    "    nf-core/rnaseq \\\n",
    "    --input samplesheet_Sus_scrofa.csv \\\n",
    "    --outdir final_alignment8 \\\n",
    "    --gtf /mnt/references/Sus_scrofa.Sscrofa11.1.112.gtf.gz \\\n",
    "    --fasta /mnt/references/Sus_scrofa.Sscrofa11.1.dna.toplevel.fa.gz \\\n",
    "    --igenomes_ignore \\\n",
    "    --genome null \\\n",
    "    -profile docker \\\n",
    "    --max_memory 31.GB \\\n",
    "    --max_cpus 8 \\\n",
    "    --aligner hisat2\n",
    "\n",
    "nextflow run \\\n",
    "    nf-core/rnaseq \\\n",
    "    --input samplesheet_Aedes_albopictus_2.csv \\\n",
    "    --outdir final_alignment9 \\\n",
    "    --gff /mnt/references/Aedes_albopictus.AaloF1.59.gff.gz \\\n",
    "    --fasta /mnt/references/Aedes_albopictus.AaloF1.dna.toplevel.fa.gz \\\n",
    "    --igenomes_ignore \\\n",
    "    --genome null \\\n",
    "    -profile docker \\\n",
    "    --max_memory 31.GB \\\n",
    "    --max_cpus 8 \\\n",
    "    --aligner hisat2 \\"
   ]
  },
  {
   "cell_type": "code",
   "execution_count": null,
   "id": "f4d49b0d",
   "metadata": {
    "vscode": {
     "languageId": "powershell"
    }
   },
   "outputs": [],
   "source": [
    "sftp purav@172.27.47.63\n",
    "get *\n",
    "quit"
   ]
  },
  {
   "cell_type": "code",
   "execution_count": null,
   "id": "d1e8c311",
   "metadata": {
    "vscode": {
     "languageId": "powershell"
    }
   },
   "outputs": [],
   "source": [
    "#American crow\n",
    "wget https://ftp.ncbi.nlm.nih.gov/genomes/all/GCF/000/691/975/GCF_000691975.1_ASM69197v1/GCF_000691975.1_ASM69197v1_genomic.fna.gz\n",
    "wget https://ftp.ncbi.nlm.nih.gov/genomes/all/GCF/000/691/975/GCF_000691975.1_ASM69197v1/GCF_000691975.1_ASM69197v1_genomic.gtf.gz"
   ]
  },
  {
   "cell_type": "code",
   "execution_count": null,
   "id": "b0598220",
   "metadata": {
    "vscode": {
     "languageId": "powershell"
    }
   },
   "outputs": [],
   "source": [
    "#Golden Hamster\n",
    "wget https://ftp.ensembl.org/pub/release-112/fasta/mesocricetus_auratus/dna/Mesocricetus_auratus.MesAur1.0.dna.toplevel.fa.gz\n",
    "wget https://ftp.ensembl.org/pub/release-112/gtf/mesocricetus_auratus/Mesocricetus_auratus.MesAur1.0.112.gtf.gz"
   ]
  },
  {
   "cell_type": "code",
   "execution_count": null,
   "id": "8269c6e1",
   "metadata": {
    "vscode": {
     "languageId": "powershell"
    }
   },
   "outputs": [],
   "source": [
    "nextflow run \\\n",
    "    nf-core/rnaseq \\\n",
    "    --input samplesheet_Corvus_brachyrhynchos.csv \\\n",
    "    --outdir final_alignment_crow \\\n",
    "    --gtf /mnt/references/Corvus_brachyrhynchos_GCF_000691975.1_ASM69197v1_genomic.gtf.gz \\\n",
    "    --fasta /mnt/references/Corvus_brachyrhynchos_GCF_000691975.1_ASM69197v1_genomic.fna.gz \\\n",
    "    --igenomes_ignore \\\n",
    "    --genome null \\\n",
    "    -profile docker \\\n",
    "    --max_memory 31.GB \\\n",
    "    --max_cpus 8 \\\n",
    "    --aligner hisat2 \\\n",
    "\n",
    "nextflow run \\\n",
    "    nf-core/rnaseq \\\n",
    "    --input samplesheet_Aedes_albopictus_3.csv \\\n",
    "    --outdir final_alignment_Aedes_albopictus_3 \\\n",
    "    --gff /mnt/references/Aedes_albopictus.AaloF1.59.gff.gz \\\n",
    "    --fasta /mnt/references/Aedes_albopictus.AaloF1.dna.toplevel.fa.gz \\\n",
    "    --igenomes_ignore \\\n",
    "    --genome null \\\n",
    "    -profile docker \\\n",
    "    --max_memory 31.GB \\\n",
    "    --max_cpus 8 \\\n",
    "    --aligner hisat2 \\\n",
    "\n",
    "nextflow run \\\n",
    "    nf-core/rnaseq \\\n",
    "    --input samplesheet_Mesocricetus_auratus.csv \\\n",
    "    --outdir final_alignment_hamster \\\n",
    "    --gtf /mnt/references/Mesocricetus_auratus.MesAur1.0.112.gtf.gz \\\n",
    "    --fasta /mnt/references/Mesocricetus_auratus.MesAur1.0.dna.toplevel.fa.gz \\\n",
    "    --igenomes_ignore \\\n",
    "    --genome null \\\n",
    "    -profile docker \\\n",
    "    --max_memory 31.GB \\\n",
    "    --max_cpus 8 \\\n",
    "    --aligner hisat2 \\"
   ]
  },
  {
   "cell_type": "code",
   "execution_count": null,
   "id": "2c211e0d-59eb-433e-a086-81fdd993e48c",
   "metadata": {},
   "outputs": [],
   "source": []
  }
 ],
 "metadata": {
  "kernelspec": {
   "display_name": "Bash",
   "language": "bash",
   "name": "bash"
  },
  "language_info": {
   "codemirror_mode": "shell",
   "file_extension": ".sh",
   "mimetype": "text/x-sh",
   "name": "bash"
  }
 },
 "nbformat": 4,
 "nbformat_minor": 5
}
